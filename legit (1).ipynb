{
 "cells": [
  {
   "cell_type": "markdown",
   "metadata": {},
   "source": [
    "# How Well Did My Bot Trade?\n",
    "\n"
   ]
  },
  {
   "cell_type": "markdown",
   "metadata": {},
   "source": [
    "For this analysis we only use a few great python3 libraries: pandas, plotly,requests, and datetime<br>\n",
    "Lets import all of our libraries and sign into plotly"
   ]
  },
  {
   "cell_type": "code",
   "execution_count": 33,
   "metadata": {
    "collapsed": true
   },
   "outputs": [],
   "source": [
    "import pandas as pd\n",
    "import plotly\n",
    "import plotly.plotly as py\n",
    "import plotly.graph_objs as go\n",
    "import requests\n",
    "from datetime import datetime, timedelta\n",
    "plotly.tools.set_credentials_file(username='dannymoscoso05', api_key='OfRkZGSqKlcgLkBPG6rY')\n",
    "plotly.tools.set_config_file(world_readable=True,)"
   ]
  },
  {
   "cell_type": "markdown",
   "metadata": {},
   "source": [
    "The first step is load our data into pandas and fix the dates"
   ]
  },
  {
   "cell_type": "code",
   "execution_count": 34,
   "metadata": {
    "collapsed": true
   },
   "outputs": [],
   "source": [
    "df = pd.read_csv('trans01.csv')\n",
    "df['Date'] = pd.to_datetime(df['Date'])"
   ]
  },
  {
   "cell_type": "markdown",
   "metadata": {},
   "source": [
    "This dataset was taken from my Oanda account transaction history. All these trades were made with a python script I wrote to apply a simple technical analysis strategy, more about this trading strategy can be found here: \n",
    "https://tradingstrategyguides.com/parabolic-sar-moving-average-trade-strategy/.\n",
    "The script was able to make trades based on this strategy, \n",
    "however it made a lot more losing trades than winning ones,\n",
    "lets explore how well it performed.\n"
   ]
  },
  {
   "cell_type": "code",
   "execution_count": 35,
   "metadata": {},
   "outputs": [
    {
     "data": {
      "text/html": [
       "<div>\n",
       "<style scoped>\n",
       "    .dataframe tbody tr th:only-of-type {\n",
       "        vertical-align: middle;\n",
       "    }\n",
       "\n",
       "    .dataframe tbody tr th {\n",
       "        vertical-align: top;\n",
       "    }\n",
       "\n",
       "    .dataframe thead th {\n",
       "        text-align: right;\n",
       "    }\n",
       "</style>\n",
       "<table border=\"1\" class=\"dataframe\">\n",
       "  <thead>\n",
       "    <tr style=\"text-align: right;\">\n",
       "      <th></th>\n",
       "      <th>Ticket</th>\n",
       "      <th>Date</th>\n",
       "      <th>Timezone</th>\n",
       "      <th>Transaction</th>\n",
       "      <th>Details</th>\n",
       "      <th>Instrument</th>\n",
       "      <th>Price</th>\n",
       "      <th>Units</th>\n",
       "      <th>Direction</th>\n",
       "      <th>Spread Cost</th>\n",
       "      <th>Stop Loss</th>\n",
       "      <th>Take Profit</th>\n",
       "      <th>Trailing Stop</th>\n",
       "      <th>Financing</th>\n",
       "      <th>Commission</th>\n",
       "      <th>P/L</th>\n",
       "      <th>Amount</th>\n",
       "      <th>Balance</th>\n",
       "    </tr>\n",
       "  </thead>\n",
       "  <tbody>\n",
       "    <tr>\n",
       "      <th>0</th>\n",
       "      <td>6312</td>\n",
       "      <td>2018-08-29 17:25:11</td>\n",
       "      <td>EDT</td>\n",
       "      <td>ORDER_FILL</td>\n",
       "      <td>MARKET_ORDER_TRADE_CLOSE</td>\n",
       "      <td>USD/CAD</td>\n",
       "      <td>1.29076</td>\n",
       "      <td>650.0</td>\n",
       "      <td>Sell</td>\n",
       "      <td>0.1755</td>\n",
       "      <td>NaN</td>\n",
       "      <td>NaN</td>\n",
       "      <td>NaN</td>\n",
       "      <td>-0.0001</td>\n",
       "      <td>0.0</td>\n",
       "      <td>-0.2210</td>\n",
       "      <td>NaN</td>\n",
       "      <td>81.79</td>\n",
       "    </tr>\n",
       "    <tr>\n",
       "      <th>1</th>\n",
       "      <td>6313</td>\n",
       "      <td>2018-08-29 17:25:11</td>\n",
       "      <td>EDT</td>\n",
       "      <td>ORDER_CANCEL</td>\n",
       "      <td>LINKED_TRADE_CLOSED</td>\n",
       "      <td>NaN</td>\n",
       "      <td>NaN</td>\n",
       "      <td>NaN</td>\n",
       "      <td>NaN</td>\n",
       "      <td>NaN</td>\n",
       "      <td>NaN</td>\n",
       "      <td>NaN</td>\n",
       "      <td>NaN</td>\n",
       "      <td>NaN</td>\n",
       "      <td>NaN</td>\n",
       "      <td>NaN</td>\n",
       "      <td>NaN</td>\n",
       "      <td>NaN</td>\n",
       "    </tr>\n",
       "    <tr>\n",
       "      <th>2</th>\n",
       "      <td>6314</td>\n",
       "      <td>2018-08-29 17:25:11</td>\n",
       "      <td>EDT</td>\n",
       "      <td>ORDER_CANCEL</td>\n",
       "      <td>LINKED_TRADE_CLOSED</td>\n",
       "      <td>NaN</td>\n",
       "      <td>NaN</td>\n",
       "      <td>NaN</td>\n",
       "      <td>NaN</td>\n",
       "      <td>NaN</td>\n",
       "      <td>NaN</td>\n",
       "      <td>NaN</td>\n",
       "      <td>NaN</td>\n",
       "      <td>NaN</td>\n",
       "      <td>NaN</td>\n",
       "      <td>NaN</td>\n",
       "      <td>NaN</td>\n",
       "      <td>NaN</td>\n",
       "    </tr>\n",
       "    <tr>\n",
       "      <th>3</th>\n",
       "      <td>6315</td>\n",
       "      <td>2018-08-29 17:25:14</td>\n",
       "      <td>EDT</td>\n",
       "      <td>MARKET_ORDER</td>\n",
       "      <td>TRADE_CLOSE</td>\n",
       "      <td>USD/JPY</td>\n",
       "      <td>NaN</td>\n",
       "      <td>650.0</td>\n",
       "      <td>Sell</td>\n",
       "      <td>NaN</td>\n",
       "      <td>NaN</td>\n",
       "      <td>NaN</td>\n",
       "      <td>NaN</td>\n",
       "      <td>NaN</td>\n",
       "      <td>NaN</td>\n",
       "      <td>NaN</td>\n",
       "      <td>NaN</td>\n",
       "      <td>NaN</td>\n",
       "    </tr>\n",
       "    <tr>\n",
       "      <th>4</th>\n",
       "      <td>6316</td>\n",
       "      <td>2018-08-29 17:25:14</td>\n",
       "      <td>EDT</td>\n",
       "      <td>ORDER_FILL</td>\n",
       "      <td>MARKET_ORDER_TRADE_CLOSE</td>\n",
       "      <td>USD/JPY</td>\n",
       "      <td>111.67100</td>\n",
       "      <td>650.0</td>\n",
       "      <td>Sell</td>\n",
       "      <td>0.1240</td>\n",
       "      <td>NaN</td>\n",
       "      <td>NaN</td>\n",
       "      <td>NaN</td>\n",
       "      <td>0.0019</td>\n",
       "      <td>0.0</td>\n",
       "      <td>0.2854</td>\n",
       "      <td>NaN</td>\n",
       "      <td>82.08</td>\n",
       "    </tr>\n",
       "  </tbody>\n",
       "</table>\n",
       "</div>"
      ],
      "text/plain": [
       "   Ticket                Date Timezone   Transaction  \\\n",
       "0    6312 2018-08-29 17:25:11      EDT    ORDER_FILL   \n",
       "1    6313 2018-08-29 17:25:11      EDT  ORDER_CANCEL   \n",
       "2    6314 2018-08-29 17:25:11      EDT  ORDER_CANCEL   \n",
       "3    6315 2018-08-29 17:25:14      EDT  MARKET_ORDER   \n",
       "4    6316 2018-08-29 17:25:14      EDT    ORDER_FILL   \n",
       "\n",
       "                    Details Instrument      Price  Units Direction  \\\n",
       "0  MARKET_ORDER_TRADE_CLOSE    USD/CAD    1.29076  650.0      Sell   \n",
       "1       LINKED_TRADE_CLOSED        NaN        NaN    NaN       NaN   \n",
       "2       LINKED_TRADE_CLOSED        NaN        NaN    NaN       NaN   \n",
       "3               TRADE_CLOSE    USD/JPY        NaN  650.0      Sell   \n",
       "4  MARKET_ORDER_TRADE_CLOSE    USD/JPY  111.67100  650.0      Sell   \n",
       "\n",
       "   Spread Cost  Stop Loss  Take Profit  Trailing Stop  Financing  Commission  \\\n",
       "0       0.1755        NaN          NaN            NaN    -0.0001         0.0   \n",
       "1          NaN        NaN          NaN            NaN        NaN         NaN   \n",
       "2          NaN        NaN          NaN            NaN        NaN         NaN   \n",
       "3          NaN        NaN          NaN            NaN        NaN         NaN   \n",
       "4       0.1240        NaN          NaN            NaN     0.0019         0.0   \n",
       "\n",
       "      P/L  Amount  Balance  \n",
       "0 -0.2210     NaN    81.79  \n",
       "1     NaN     NaN      NaN  \n",
       "2     NaN     NaN      NaN  \n",
       "3     NaN     NaN      NaN  \n",
       "4  0.2854     NaN    82.08  "
      ]
     },
     "execution_count": 35,
     "metadata": {},
     "output_type": "execute_result"
    }
   ],
   "source": [
    "df.head()"
   ]
  },
  {
   "cell_type": "markdown",
   "metadata": {},
   "source": [
    "Since there is a lot going on in this transaction history, I just want to filter out the trades had an account balance."
   ]
  },
  {
   "cell_type": "code",
   "execution_count": 36,
   "metadata": {},
   "outputs": [],
   "source": [
    "DateAndBalance = df.loc[df['Balance'] > 0, ['Date','Balance']]"
   ]
  },
  {
   "cell_type": "markdown",
   "metadata": {},
   "source": [
    "This is what our new dataframe looks like:"
   ]
  },
  {
   "cell_type": "code",
   "execution_count": 31,
   "metadata": {},
   "outputs": [
    {
     "data": {
      "text/html": [
       "<div>\n",
       "<style scoped>\n",
       "    .dataframe tbody tr th:only-of-type {\n",
       "        vertical-align: middle;\n",
       "    }\n",
       "\n",
       "    .dataframe tbody tr th {\n",
       "        vertical-align: top;\n",
       "    }\n",
       "\n",
       "    .dataframe thead th {\n",
       "        text-align: right;\n",
       "    }\n",
       "</style>\n",
       "<table border=\"1\" class=\"dataframe\">\n",
       "  <thead>\n",
       "    <tr style=\"text-align: right;\">\n",
       "      <th></th>\n",
       "      <th>Date</th>\n",
       "      <th>Balance</th>\n",
       "    </tr>\n",
       "  </thead>\n",
       "  <tbody>\n",
       "    <tr>\n",
       "      <th>0</th>\n",
       "      <td>2018-08-29 17:25:11</td>\n",
       "      <td>81.79</td>\n",
       "    </tr>\n",
       "    <tr>\n",
       "      <th>4</th>\n",
       "      <td>2018-08-29 17:25:14</td>\n",
       "      <td>82.08</td>\n",
       "    </tr>\n",
       "    <tr>\n",
       "      <th>8</th>\n",
       "      <td>2018-08-29 17:25:45</td>\n",
       "      <td>82.08</td>\n",
       "    </tr>\n",
       "    <tr>\n",
       "      <th>12</th>\n",
       "      <td>2018-08-29 17:48:27</td>\n",
       "      <td>81.70</td>\n",
       "    </tr>\n",
       "    <tr>\n",
       "      <th>16</th>\n",
       "      <td>2018-08-30 02:56:16</td>\n",
       "      <td>81.70</td>\n",
       "    </tr>\n",
       "  </tbody>\n",
       "</table>\n",
       "</div>"
      ],
      "text/plain": [
       "                  Date  Balance\n",
       "0  2018-08-29 17:25:11    81.79\n",
       "4  2018-08-29 17:25:14    82.08\n",
       "8  2018-08-29 17:25:45    82.08\n",
       "12 2018-08-29 17:48:27    81.70\n",
       "16 2018-08-30 02:56:16    81.70"
      ]
     },
     "execution_count": 31,
     "metadata": {},
     "output_type": "execute_result"
    }
   ],
   "source": [
    "DateAndBalance.head()"
   ]
  },
  {
   "cell_type": "code",
   "execution_count": 37,
   "metadata": {},
   "outputs": [
    {
     "name": "stdout",
     "output_type": "stream",
     "text": [
      "<plotly.tools.PlotlyDisplay object>\n"
     ]
    }
   ],
   "source": [
    "trace0 = go.Scatter(\n",
    "    x = DateAndBalance.Date.tolist(),\n",
    "    y = DateAndBalance.Balance.tolist(),\n",
    "    mode = 'lines+markers',\n",
    "    marker={'color': 'purple'}, \n",
    "    name='1st Trace'\n",
    ")\n",
    "\n",
    "data = [trace0]\n",
    "layout=go.Layout(title=\"Balance of Account\", xaxis={'title':'Date Time'}, yaxis={'title':'Balance'})\n",
    "figure=go.Figure(data=data,layout=layout)\n",
    "py.iplot(figure, filename='Balance August29-30')"
   ]
  },
  {
   "cell_type": "code",
   "execution_count": 12,
   "metadata": {},
   "outputs": [
    {
     "data": {
      "text/html": [
       "<div>\n",
       "<style scoped>\n",
       "    .dataframe tbody tr th:only-of-type {\n",
       "        vertical-align: middle;\n",
       "    }\n",
       "\n",
       "    .dataframe tbody tr th {\n",
       "        vertical-align: top;\n",
       "    }\n",
       "\n",
       "    .dataframe thead th {\n",
       "        text-align: right;\n",
       "    }\n",
       "</style>\n",
       "<table border=\"1\" class=\"dataframe\">\n",
       "  <thead>\n",
       "    <tr style=\"text-align: right;\">\n",
       "      <th></th>\n",
       "      <th>Ticket</th>\n",
       "      <th>Date</th>\n",
       "      <th>Timezone</th>\n",
       "      <th>Transaction</th>\n",
       "      <th>Details</th>\n",
       "      <th>Instrument</th>\n",
       "      <th>Price</th>\n",
       "      <th>Units</th>\n",
       "      <th>Direction</th>\n",
       "      <th>Spread Cost</th>\n",
       "      <th>Stop Loss</th>\n",
       "      <th>Take Profit</th>\n",
       "      <th>Trailing Stop</th>\n",
       "      <th>Financing</th>\n",
       "      <th>Commission</th>\n",
       "      <th>P/L</th>\n",
       "      <th>Amount</th>\n",
       "      <th>Balance</th>\n",
       "    </tr>\n",
       "  </thead>\n",
       "  <tbody>\n",
       "    <tr>\n",
       "      <th>86</th>\n",
       "      <td>6398</td>\n",
       "      <td>2018-08-30 14:08:07</td>\n",
       "      <td>EDT</td>\n",
       "      <td>ORDER_CANCEL</td>\n",
       "      <td>LINKED_TRADE_CLOSED</td>\n",
       "      <td>NaN</td>\n",
       "      <td>NaN</td>\n",
       "      <td>NaN</td>\n",
       "      <td>NaN</td>\n",
       "      <td>NaN</td>\n",
       "      <td>NaN</td>\n",
       "      <td>NaN</td>\n",
       "      <td>NaN</td>\n",
       "      <td>NaN</td>\n",
       "      <td>NaN</td>\n",
       "      <td>NaN</td>\n",
       "      <td>NaN</td>\n",
       "      <td>NaN</td>\n",
       "    </tr>\n",
       "    <tr>\n",
       "      <th>87</th>\n",
       "      <td>6399</td>\n",
       "      <td>2018-08-30 14:11:29</td>\n",
       "      <td>EDT</td>\n",
       "      <td>MARKET_ORDER</td>\n",
       "      <td>CLIENT_ORDER</td>\n",
       "      <td>EUR/USD</td>\n",
       "      <td>NaN</td>\n",
       "      <td>375.0</td>\n",
       "      <td>Buy</td>\n",
       "      <td>NaN</td>\n",
       "      <td>NaN</td>\n",
       "      <td>NaN</td>\n",
       "      <td>NaN</td>\n",
       "      <td>NaN</td>\n",
       "      <td>NaN</td>\n",
       "      <td>NaN</td>\n",
       "      <td>NaN</td>\n",
       "      <td>NaN</td>\n",
       "    </tr>\n",
       "    <tr>\n",
       "      <th>88</th>\n",
       "      <td>6400</td>\n",
       "      <td>2018-08-30 14:11:29</td>\n",
       "      <td>EDT</td>\n",
       "      <td>ORDER_FILL</td>\n",
       "      <td>MARKET_ORDER</td>\n",
       "      <td>EUR/USD</td>\n",
       "      <td>1.16686</td>\n",
       "      <td>375.0</td>\n",
       "      <td>Buy</td>\n",
       "      <td>0.0316</td>\n",
       "      <td>NaN</td>\n",
       "      <td>NaN</td>\n",
       "      <td>NaN</td>\n",
       "      <td>0.0</td>\n",
       "      <td>0.0</td>\n",
       "      <td>0.0</td>\n",
       "      <td>NaN</td>\n",
       "      <td>81.36</td>\n",
       "    </tr>\n",
       "    <tr>\n",
       "      <th>89</th>\n",
       "      <td>6401</td>\n",
       "      <td>2018-08-30 14:11:30</td>\n",
       "      <td>EDT</td>\n",
       "      <td>TAKE_PROFIT_ORDER</td>\n",
       "      <td>CLIENT_ORDER</td>\n",
       "      <td>NaN</td>\n",
       "      <td>1.16801</td>\n",
       "      <td>NaN</td>\n",
       "      <td>NaN</td>\n",
       "      <td>NaN</td>\n",
       "      <td>NaN</td>\n",
       "      <td>NaN</td>\n",
       "      <td>NaN</td>\n",
       "      <td>NaN</td>\n",
       "      <td>NaN</td>\n",
       "      <td>NaN</td>\n",
       "      <td>NaN</td>\n",
       "      <td>NaN</td>\n",
       "    </tr>\n",
       "    <tr>\n",
       "      <th>90</th>\n",
       "      <td>6402</td>\n",
       "      <td>2018-08-30 14:11:30</td>\n",
       "      <td>EDT</td>\n",
       "      <td>STOP_LOSS_ORDER</td>\n",
       "      <td>CLIENT_ORDER</td>\n",
       "      <td>NaN</td>\n",
       "      <td>1.16551</td>\n",
       "      <td>NaN</td>\n",
       "      <td>NaN</td>\n",
       "      <td>NaN</td>\n",
       "      <td>NaN</td>\n",
       "      <td>NaN</td>\n",
       "      <td>NaN</td>\n",
       "      <td>NaN</td>\n",
       "      <td>NaN</td>\n",
       "      <td>NaN</td>\n",
       "      <td>NaN</td>\n",
       "      <td>NaN</td>\n",
       "    </tr>\n",
       "  </tbody>\n",
       "</table>\n",
       "</div>"
      ],
      "text/plain": [
       "    Ticket                Date Timezone        Transaction  \\\n",
       "86    6398 2018-08-30 14:08:07      EDT       ORDER_CANCEL   \n",
       "87    6399 2018-08-30 14:11:29      EDT       MARKET_ORDER   \n",
       "88    6400 2018-08-30 14:11:29      EDT         ORDER_FILL   \n",
       "89    6401 2018-08-30 14:11:30      EDT  TAKE_PROFIT_ORDER   \n",
       "90    6402 2018-08-30 14:11:30      EDT    STOP_LOSS_ORDER   \n",
       "\n",
       "                Details Instrument    Price  Units Direction  Spread Cost  \\\n",
       "86  LINKED_TRADE_CLOSED        NaN      NaN    NaN       NaN          NaN   \n",
       "87         CLIENT_ORDER    EUR/USD      NaN  375.0       Buy          NaN   \n",
       "88         MARKET_ORDER    EUR/USD  1.16686  375.0       Buy       0.0316   \n",
       "89         CLIENT_ORDER        NaN  1.16801    NaN       NaN          NaN   \n",
       "90         CLIENT_ORDER        NaN  1.16551    NaN       NaN          NaN   \n",
       "\n",
       "    Stop Loss  Take Profit  Trailing Stop  Financing  Commission  P/L  Amount  \\\n",
       "86        NaN          NaN            NaN        NaN         NaN  NaN     NaN   \n",
       "87        NaN          NaN            NaN        NaN         NaN  NaN     NaN   \n",
       "88        NaN          NaN            NaN        0.0         0.0  0.0     NaN   \n",
       "89        NaN          NaN            NaN        NaN         NaN  NaN     NaN   \n",
       "90        NaN          NaN            NaN        NaN         NaN  NaN     NaN   \n",
       "\n",
       "    Balance  \n",
       "86      NaN  \n",
       "87      NaN  \n",
       "88    81.36  \n",
       "89      NaN  \n",
       "90      NaN  "
      ]
     },
     "execution_count": 12,
     "metadata": {},
     "output_type": "execute_result"
    }
   ],
   "source": [
    "df.tail(5)"
   ]
  },
  {
   "cell_type": "code",
   "execution_count": 13,
   "metadata": {},
   "outputs": [
    {
     "name": "stdout",
     "output_type": "stream",
     "text": [
      "Lost Trades: 8\n",
      "Winning Trades: 7\n"
     ]
    }
   ],
   "source": [
    "Losses = df.loc[df['P/L'] < 0, ['Date','Instrument','P/L','Balance']]\n",
    "Profits = df.loc[df['P/L'] > 0, ['Date','Instrument','P/L','Balance']]\n",
    "print('Lost Trades: '+str(len(Losses)))\n",
    "print('Winning Trades: '+str(len(Profits)))"
   ]
  },
  {
   "cell_type": "code",
   "execution_count": 14,
   "metadata": {
    "scrolled": true
   },
   "outputs": [
    {
     "data": {
      "text/plain": [
       "EUR/USD    6\n",
       "USD/CAD    2\n",
       "Name: Instrument, dtype: int64"
      ]
     },
     "execution_count": 14,
     "metadata": {},
     "output_type": "execute_result"
    }
   ],
   "source": [
    "Losses['Instrument'].value_counts()"
   ]
  },
  {
   "cell_type": "code",
   "execution_count": 15,
   "metadata": {},
   "outputs": [
    {
     "data": {
      "text/plain": [
       "EUR/USD    6\n",
       "USD/JPY    1\n",
       "Name: Instrument, dtype: int64"
      ]
     },
     "execution_count": 15,
     "metadata": {},
     "output_type": "execute_result"
    }
   ],
   "source": [
    "Profits['Instrument'].value_counts()"
   ]
  },
  {
   "cell_type": "code",
   "execution_count": 16,
   "metadata": {
    "collapsed": true
   },
   "outputs": [],
   "source": [
    "pairprofits =  Profits['Instrument'].value_counts()\n",
    "pairlosses =  Profits['Instrument'].value_counts()\n",
    "pairs =  Profits['Instrument'].value_counts().index.tolist()"
   ]
  },
  {
   "cell_type": "code",
   "execution_count": 17,
   "metadata": {},
   "outputs": [
    {
     "data": {
      "text/plain": [
       "[['EUR/USD', 6, 6], ['USD/JPY', 0, 1]]"
      ]
     },
     "execution_count": 17,
     "metadata": {},
     "output_type": "execute_result"
    }
   ],
   "source": [
    "profitloss = []\n",
    "for x in pairs:\n",
    "    numoflosses = len(Losses.loc[Losses['Instrument'] == x,])\n",
    "    numofwins = len(Profits.loc[Profits['Instrument'] == x,])\n",
    "    profitloss.append([x,numoflosses,numofwins])\n",
    "profitloss.sort(key=lambda x: -x[2])\n",
    "profitloss"
   ]
  },
  {
   "cell_type": "code",
   "execution_count": 18,
   "metadata": {
    "collapsed": true
   },
   "outputs": [],
   "source": [
    "fromtimeg = Profits.Date.tolist()[0] - timedelta(hours=6)\n",
    "fromtimeg = fromtimeg.isoformat().replace(':','%3A') \n",
    "tog = Profits.Date.tolist()[0] \n",
    "tog = tog.isoformat().replace(':','%3A') "
   ]
  },
  {
   "cell_type": "code",
   "execution_count": 19,
   "metadata": {
    "collapsed": true
   },
   "outputs": [],
   "source": [
    "pair = 'USD_CAD'\n",
    "\n",
    "req = requests.get('https://api-fxpractice.oanda.com/v3/instruments/'+pair+'/candles?price=M&granularity=M1&from='+fromtimeg+'&to='+tog,headers=headers)\n",
    "get = req.json()\n",
    "timestamp=[]\n",
    "\n",
    "o=[]\n",
    "h=[]\n",
    "l=[]\n",
    "c=[]\n",
    "\n",
    "for x in get['candles']:\n",
    "    timestamp.append(x['time'])\n",
    "    o.append(float(x['mid']['o']))\n",
    "    h.append(float(x['mid']['h']))\n",
    "    l.append(float(x['mid']['l']))\n",
    "    c.append(float(x['mid']['c']))\n",
    "\n",
    "df = pd.DataFrame(\n",
    "{\"timestamp\" : timestamp,\n",
    "\"open\" : o,\n",
    "\"high\" : h,\n",
    "\"low\" : l,\n",
    "\"close\" : c,\n",
    "},)\n",
    "df['timestamp'] = pd.to_datetime(df['timestamp'])"
   ]
  },
  {
   "cell_type": "code",
   "execution_count": 20,
   "metadata": {},
   "outputs": [
    {
     "data": {
      "text/plain": [
       "347"
      ]
     },
     "execution_count": 20,
     "metadata": {},
     "output_type": "execute_result"
    }
   ],
   "source": [
    "len(df)"
   ]
  },
  {
   "cell_type": "code",
   "execution_count": 21,
   "metadata": {},
   "outputs": [
    {
     "data": {
      "text/html": [
       "<iframe id=\"igraph\" scrolling=\"no\" style=\"border:none;\" seamless=\"seamless\" src=\"https://plot.ly/~dannymoscoso05/10.embed\" height=\"525px\" width=\"100%\"></iframe>"
      ],
      "text/plain": [
       "<plotly.tools.PlotlyDisplay object>"
      ]
     },
     "execution_count": 21,
     "metadata": {},
     "output_type": "execute_result"
    }
   ],
   "source": [
    "trace0 = go.Scatter(\n",
    "    x = df.timestamp.tolist(),\n",
    "    y = df.close.tolist(),\n",
    "    mode = 'lines+markers',\n",
    "    marker={'color': 'blue'}, \n",
    "    name='1st Trace'\n",
    "\n",
    ")\n",
    "\n",
    "data = [trace0]\n",
    "layout=go.Layout(title=\"Exploring Price\", xaxis={'title':'Date Time'}, yaxis={'title':'Close Price'})\n",
    "figure=go.Figure(data=data,layout=layout)\n",
    "py.iplot(figure, filename='Close')"
   ]
  },
  {
   "cell_type": "code",
   "execution_count": 22,
   "metadata": {},
   "outputs": [
    {
     "data": {
      "text/html": [
       "<div>\n",
       "<style scoped>\n",
       "    .dataframe tbody tr th:only-of-type {\n",
       "        vertical-align: middle;\n",
       "    }\n",
       "\n",
       "    .dataframe tbody tr th {\n",
       "        vertical-align: top;\n",
       "    }\n",
       "\n",
       "    .dataframe thead th {\n",
       "        text-align: right;\n",
       "    }\n",
       "</style>\n",
       "<table border=\"1\" class=\"dataframe\">\n",
       "  <thead>\n",
       "    <tr style=\"text-align: right;\">\n",
       "      <th></th>\n",
       "      <th>Date</th>\n",
       "      <th>Instrument</th>\n",
       "      <th>P/L</th>\n",
       "      <th>Balance</th>\n",
       "    </tr>\n",
       "  </thead>\n",
       "  <tbody>\n",
       "    <tr>\n",
       "      <th>0</th>\n",
       "      <td>2018-08-29 17:25:11</td>\n",
       "      <td>USD/CAD</td>\n",
       "      <td>-0.2210</td>\n",
       "      <td>81.79</td>\n",
       "    </tr>\n",
       "    <tr>\n",
       "      <th>12</th>\n",
       "      <td>2018-08-29 17:48:27</td>\n",
       "      <td>USD/CAD</td>\n",
       "      <td>-0.3770</td>\n",
       "      <td>81.70</td>\n",
       "    </tr>\n",
       "    <tr>\n",
       "      <th>25</th>\n",
       "      <td>2018-08-30 03:58:05</td>\n",
       "      <td>EUR/USD</td>\n",
       "      <td>-0.6687</td>\n",
       "      <td>81.59</td>\n",
       "    </tr>\n",
       "    <tr>\n",
       "      <th>37</th>\n",
       "      <td>2018-08-30 05:34:16</td>\n",
       "      <td>EUR/USD</td>\n",
       "      <td>-0.6256</td>\n",
       "      <td>81.57</td>\n",
       "    </tr>\n",
       "    <tr>\n",
       "      <th>49</th>\n",
       "      <td>2018-08-30 07:12:16</td>\n",
       "      <td>EUR/USD</td>\n",
       "      <td>-0.6593</td>\n",
       "      <td>81.47</td>\n",
       "    </tr>\n",
       "    <tr>\n",
       "      <th>67</th>\n",
       "      <td>2018-08-30 10:42:43</td>\n",
       "      <td>EUR/USD</td>\n",
       "      <td>-0.6229</td>\n",
       "      <td>82.07</td>\n",
       "    </tr>\n",
       "    <tr>\n",
       "      <th>73</th>\n",
       "      <td>2018-08-30 11:24:56</td>\n",
       "      <td>EUR/USD</td>\n",
       "      <td>-0.6624</td>\n",
       "      <td>81.41</td>\n",
       "    </tr>\n",
       "    <tr>\n",
       "      <th>79</th>\n",
       "      <td>2018-08-30 13:07:18</td>\n",
       "      <td>EUR/USD</td>\n",
       "      <td>-0.6181</td>\n",
       "      <td>80.79</td>\n",
       "    </tr>\n",
       "  </tbody>\n",
       "</table>\n",
       "</div>"
      ],
      "text/plain": [
       "                  Date Instrument     P/L  Balance\n",
       "0  2018-08-29 17:25:11    USD/CAD -0.2210    81.79\n",
       "12 2018-08-29 17:48:27    USD/CAD -0.3770    81.70\n",
       "25 2018-08-30 03:58:05    EUR/USD -0.6687    81.59\n",
       "37 2018-08-30 05:34:16    EUR/USD -0.6256    81.57\n",
       "49 2018-08-30 07:12:16    EUR/USD -0.6593    81.47\n",
       "67 2018-08-30 10:42:43    EUR/USD -0.6229    82.07\n",
       "73 2018-08-30 11:24:56    EUR/USD -0.6624    81.41\n",
       "79 2018-08-30 13:07:18    EUR/USD -0.6181    80.79"
      ]
     },
     "execution_count": 22,
     "metadata": {},
     "output_type": "execute_result"
    }
   ],
   "source": [
    "Losses"
   ]
  },
  {
   "cell_type": "code",
   "execution_count": 23,
   "metadata": {},
   "outputs": [
    {
     "data": {
      "text/html": [
       "<iframe id=\"igraph\" scrolling=\"no\" style=\"border:none;\" seamless=\"seamless\" src=\"https://plot.ly/~dannymoscoso05/10.embed\" height=\"525px\" width=\"100%\"></iframe>"
      ],
      "text/plain": [
       "<plotly.tools.PlotlyDisplay object>"
      ]
     },
     "execution_count": 23,
     "metadata": {},
     "output_type": "execute_result"
    }
   ],
   "source": [
    "fromtimeg = Losses.Date.tolist()[0] - timedelta(hours=6)\n",
    "fromtimeg = fromtimeg.isoformat().replace(':','%3A') \n",
    "tog = Profits.Date.tolist()[0] \n",
    "tog = tog.isoformat().replace(':','%3A') \n",
    "\n",
    "pair = 'GBP_USD'\n",
    "\n",
    "req = requests.get('https://api-fxpractice.oanda.com/v3/instruments/'+pair+'/candles?price=M&granularity=M1&from='+fromtimeg+'&to='+tog,headers=headers)\n",
    "get = req.json()\n",
    "timestamp=[]\n",
    "\n",
    "o=[]\n",
    "h=[]\n",
    "l=[]\n",
    "c=[]\n",
    "\n",
    "for x in get['candles']:\n",
    "    timestamp.append(x['time'])\n",
    "    o.append(float(x['mid']['o']))\n",
    "    h.append(float(x['mid']['h']))\n",
    "    l.append(float(x['mid']['l']))\n",
    "    c.append(float(x['mid']['c']))\n",
    "\n",
    "df = pd.DataFrame(\n",
    "{\"timestamp\" : timestamp,\n",
    "\"open\" : o,\n",
    "\"high\" : h,\n",
    "\"low\" : l,\n",
    "\"close\" : c,\n",
    "},)\n",
    "df['timestamp'] = pd.to_datetime(df['timestamp'])\n",
    "\n",
    "\n",
    "trace0 = go.Scatter(\n",
    "    x = df.timestamp.tolist(),\n",
    "    y = df.close.tolist(),\n",
    "    mode = 'lines+markers',\n",
    "    marker={'color': 'blue'}, \n",
    "    name='1st Trace'\n",
    "\n",
    ")\n",
    "\n",
    "data = [trace0]\n",
    "layout=go.Layout(title=\"Exploring Price\", xaxis={'title':'Date Time'}, yaxis={'title':'Close Price'})\n",
    "figure=go.Figure(data=data,layout=layout)\n",
    "py.iplot(figure, filename='Close')"
   ]
  },
  {
   "cell_type": "code",
   "execution_count": null,
   "metadata": {
    "collapsed": true
   },
   "outputs": [],
   "source": []
  },
  {
   "cell_type": "code",
   "execution_count": null,
   "metadata": {
    "collapsed": true
   },
   "outputs": [],
   "source": []
  }
 ],
 "metadata": {
  "kernelspec": {
   "display_name": "Python 3",
   "language": "python",
   "name": "python3"
  },
  "language_info": {
   "codemirror_mode": {
    "name": "ipython",
    "version": 3
   },
   "file_extension": ".py",
   "mimetype": "text/x-python",
   "name": "python",
   "nbconvert_exporter": "python",
   "pygments_lexer": "ipython3",
   "version": "3.6.4"
  },
  "widgets": {
   "application/vnd.jupyter.widget-state+json": {
    "state": {},
    "version_major": 2,
    "version_minor": 0
   }
  }
 },
 "nbformat": 4,
 "nbformat_minor": 2
}
